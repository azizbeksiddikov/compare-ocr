{
 "cells": [
  {
   "cell_type": "code",
   "execution_count": 72,
   "metadata": {},
   "outputs": [],
   "source": [
    "import os \n",
    "import pandas as pd\n",
    "import pytesseract\n",
    "from PIL import Image\n",
    "from easyocr import Reader\n",
    "import time"
   ]
  },
  {
   "cell_type": "code",
   "execution_count": 73,
   "metadata": {},
   "outputs": [
    {
     "name": "stdout",
     "output_type": "stream",
     "text": [
      "Complete! Processed 30 files.\n"
     ]
    }
   ],
   "source": [
    "# Import and preprocess data\n",
    "\n",
    "# Create output directory\n",
    "output_dir = os.path.join('data', 'labels')\n",
    "os.makedirs(output_dir, exist_ok=True)\n",
    "\n",
    "df = pd.read_csv('data/annotations.csv')\n",
    "\n",
    "for index, row in df.iterrows():\n",
    "    # Get values from row\n",
    "    image_name = row.iloc[0]  \n",
    "    text = row.iloc[1]    \n",
    "    \n",
    "    # Clean text\n",
    "    cleaned_text = text.replace('\"', '').strip()\n",
    "    \n",
    "    # Create output file path\n",
    "    output_file = os.path.join(output_dir, f\"{image_name}.txt\") \n",
    "    \n",
    "    # Save cleaned text\n",
    "    with open(output_file, 'w', encoding='utf-8') as f:\n",
    "        f.write(cleaned_text)\n",
    "        \n",
    "print(f\"Complete! Processed {len(df)} files.\")"
   ]
  },
  {
   "cell_type": "code",
   "execution_count": 74,
   "metadata": {},
   "outputs": [],
   "source": [
    "# Text Detection\n",
    "image_path = \"data/images/12_test.jpg\"\n",
    "image = Image.open(image_path)"
   ]
  },
  {
   "cell_type": "code",
   "execution_count": 75,
   "metadata": {},
   "outputs": [
    {
     "name": "stdout",
     "output_type": "stream",
     "text": [
      "Everyone has three lives:\n",
      "a public life, a private life,\n",
      "\n",
      "and a secret life.\n",
      "\n",
      "\n"
     ]
    }
   ],
   "source": [
    "# Tesseract\n",
    "text_tesseract = pytesseract.image_to_string(image, lang=\"eng\")\n",
    "print(text_tesseract)"
   ]
  },
  {
   "cell_type": "code",
   "execution_count": 76,
   "metadata": {},
   "outputs": [
    {
     "name": "stdout",
     "output_type": "stream",
     "text": [
      "['Everyone has three lives:', 'life_', 'private life,', 'and', 'secret lile.', \"'public\"]\n"
     ]
    }
   ],
   "source": [
    "# EasyOCR\n",
    "reader = Reader(['en'])\n",
    "results = reader.readtext(image_path)\n",
    "text_ocr = [results[i][1] for i in range(len(results))]\n",
    "print(text_ocr)"
   ]
  },
  {
   "cell_type": "code",
   "execution_count": 77,
   "metadata": {},
   "outputs": [],
   "source": [
    "def calculate_similarity(str1: str, str2: str) -> float:\n",
    "    set1 = set(str1.lower())\n",
    "    set2 = set(str2.lower())\n",
    "    \n",
    "    # Calculate intersection and union\n",
    "    intersection = len(set1.intersection(set2))\n",
    "    union = len(set1.union(set2))\n",
    "    \n",
    "    if union == 0: return 0.0\n",
    "    return intersection / union"
   ]
  },
  {
   "cell_type": "code",
   "execution_count": 78,
   "metadata": {},
   "outputs": [
    {
     "name": "stdout",
     "output_type": "stream",
     "text": [
      "\n",
      "Average Tesseract Similarity: 0.887\n",
      "Average EasyOCR Similarity: 0.909\n",
      "Tesseract - Time: 0.15s, Similarity: 0.887\n",
      "EasyOCR - Time: 0.18s, Similarity: 0.909\n"
     ]
    }
   ],
   "source": [
    "# iterate through the images\n",
    "def main():\n",
    "    reader = easyocr.Reader(['en'])\n",
    "    tesseract_scores = []\n",
    "    easyocr_scores = []\n",
    "    tesseract_times = []\n",
    "    easyocr_times = []\n",
    "\n",
    "    for image_name in os.listdir('data/images'):\n",
    "        image_path = os.path.join('data/images', image_name)\n",
    "        label_path = os.path.join('data/labels', f\"{image_name.split('.')[0]}.txt\")\n",
    "        ground_truth = open(label_path, 'r').read()\n",
    "        \n",
    "        image = Image.open(image_path)\n",
    "        \n",
    "        # Tesseract\n",
    "        start_time = time.time()\n",
    "        text_tesseract = pytesseract.image_to_string(image, lang=\"eng\")\n",
    "        tesseract_time = time.time() - start_time\n",
    "        tesseract_times.append(tesseract_time)\n",
    "        text_tesseract = text_tesseract.replace('\\n', ' ')\n",
    "\n",
    "        # EasyOCR\n",
    "        start_time = time.time()\n",
    "        results = reader.readtext(image_path)\n",
    "        easyocr_time = time.time() - start_time\n",
    "        easyocr_times.append(easyocr_time)\n",
    "        text_ocr = [results[i][1] for i in range(len(results))]\n",
    "        text_ocr = ' '.join(text_ocr)\n",
    "\n",
    "        # Calculate similarities\n",
    "        tesseract_similarity = calculate_similarity(ground_truth, text_tesseract)\n",
    "        easyocr_similarity = calculate_similarity(ground_truth, text_ocr)\n",
    "        \n",
    "        tesseract_scores.append(tesseract_similarity)\n",
    "        easyocr_scores.append(easyocr_similarity)\n",
    "        \n",
    "        # print(f\"Image: {image_name}\")\n",
    "        # print(f\"Ground Truth: {ground_truth}\")\n",
    "        # print(f\"Tesseract: {text_tesseract}\")\n",
    "        # print(f\"EasyOCR: {text_ocr}\")\n",
    "        # print(f\"Tesseract Similarity: {tesseract_similarity:.3f}\")\n",
    "        # print(f\"EasyOCR Similarity: {easyocr_similarity:.3f}\")\n",
    "        # print(\"-\" * 50)\n",
    "\n",
    "    \n",
    "    print(f\"\\nAverage Tesseract Similarity: {sum(tesseract_scores)/len(tesseract_scores):.3f}\")\n",
    "    print(f\"Average EasyOCR Similarity: {sum(easyocr_scores)/len(easyocr_scores):.3f}\")\n",
    "\n",
    "    print(f\"Tesseract - Time: {sum(tesseract_times)/len(tesseract_times):.2f}s, Similarity: {sum(tesseract_scores)/len(tesseract_scores):.3f}\")\n",
    "    print(f\"EasyOCR - Time: {sum(easyocr_times)/len(easyocr_times):.2f}s, Similarity: {sum(easyocr_scores)/len(easyocr_scores):.3f}\")\n",
    "\n",
    "    \n",
    "main()\n",
    "    "
   ]
  }
 ],
 "metadata": {
  "kernelspec": {
   "display_name": "cv_env",
   "language": "python",
   "name": "python3"
  },
  "language_info": {
   "codemirror_mode": {
    "name": "ipython",
    "version": 3
   },
   "file_extension": ".py",
   "mimetype": "text/x-python",
   "name": "python",
   "nbconvert_exporter": "python",
   "pygments_lexer": "ipython3",
   "version": "3.10.16"
  }
 },
 "nbformat": 4,
 "nbformat_minor": 2
}
